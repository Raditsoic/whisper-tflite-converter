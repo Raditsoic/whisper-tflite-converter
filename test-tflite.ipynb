{
 "cells": [
  {
   "cell_type": "code",
   "execution_count": 1,
   "metadata": {},
   "outputs": [],
   "source": [
    "import tensorflow as tf\n",
    "from datasets import load_dataset\n",
    "from transformers import WhisperProcessor, WhisperFeatureExtractor, WhisperTokenizer"
   ]
  },
  {
   "cell_type": "code",
   "execution_count": 2,
   "metadata": {},
   "outputs": [
    {
     "name": "stderr",
     "output_type": "stream",
     "text": [
      "c:\\Users\\USER\\AppData\\Local\\Programs\\Python\\Python311\\Lib\\site-packages\\huggingface_hub\\file_download.py:1132: FutureWarning: `resume_download` is deprecated and will be removed in version 1.0.0. Downloads always resume when possible. If you want to force a new download, use `force_download=True`.\n",
      "  warnings.warn(\n",
      "Special tokens have been added in the vocabulary, make sure the associated word embeddings are fine-tuned or trained.\n"
     ]
    }
   ],
   "source": [
    "feature_extractor = WhisperFeatureExtractor.from_pretrained(\"openai/whisper-small\")\n",
    "tokenizer = WhisperTokenizer.from_pretrained(\"openai/whisper-small\", predict_timestamps=True)\n",
    "processor = WhisperProcessor(feature_extractor, tokenizer)"
   ]
  },
  {
   "cell_type": "code",
   "execution_count": 3,
   "metadata": {},
   "outputs": [
    {
     "data": {
      "text/plain": [
       "<tf.Tensor: shape=(1, 80, 3000), dtype=float32, numpy=\n",
       "array([[[ 1.1933082e-01, -9.4576120e-02, -1.0977852e-01, ...,\n",
       "         -8.0602670e-01, -8.0602670e-01, -8.0602670e-01],\n",
       "        [ 4.9346685e-04, -8.9271426e-02, -6.7289710e-02, ...,\n",
       "         -8.0602670e-01, -8.0602670e-01, -8.0602670e-01],\n",
       "        [-1.5326309e-01, -2.0803916e-01, -2.2226822e-01, ...,\n",
       "         -8.0602670e-01, -8.0602670e-01, -8.0602670e-01],\n",
       "        ...,\n",
       "        [-8.0602670e-01, -8.0602670e-01, -7.9996610e-01, ...,\n",
       "         -8.0602670e-01, -8.0602670e-01, -8.0602670e-01],\n",
       "        [-8.0602670e-01, -7.7210999e-01, -8.0602670e-01, ...,\n",
       "         -8.0602670e-01, -8.0602670e-01, -8.0602670e-01],\n",
       "        [-8.0602670e-01, -8.0602670e-01, -8.0602670e-01, ...,\n",
       "         -8.0602670e-01, -8.0602670e-01, -8.0602670e-01]]], dtype=float32)>"
      ]
     },
     "execution_count": 3,
     "metadata": {},
     "output_type": "execute_result"
    }
   ],
   "source": [
    "\n",
    "ds = load_dataset(\"hf-internal-testing/librispeech_asr_dummy\", \"clean\", split=\"validation\")\n",
    "\n",
    "inputs = feature_extractor(\n",
    "    ds[0][\"audio\"][\"array\"], sampling_rate=ds[0][\"audio\"][\"sampling_rate\"], return_tensors=\"tf\"\n",
    ")\n",
    "input_features = inputs.input_features\n",
    "\n",
    "input_features"
   ]
  },
  {
   "cell_type": "code",
   "execution_count": 4,
   "metadata": {},
   "outputs": [
    {
     "data": {
      "text/plain": [
       "<tf.Tensor: shape=(1, 80, 3000), dtype=float32, numpy=\n",
       "array([[[-0.43277192, -0.43277192, -0.43277192, ..., -0.43277192,\n",
       "         -0.43277192, -0.43277192],\n",
       "        [-0.43277192, -0.43277192, -0.43277192, ..., -0.43277192,\n",
       "         -0.43277192, -0.43277192],\n",
       "        [-0.43277192, -0.43277192, -0.43277192, ..., -0.43277192,\n",
       "         -0.43277192, -0.43277192],\n",
       "        ...,\n",
       "        [-0.43277192, -0.43277192, -0.43277192, ..., -0.43277192,\n",
       "         -0.43277192, -0.43277192],\n",
       "        [-0.43277192, -0.43277192, -0.43277192, ..., -0.43277192,\n",
       "         -0.43277192, -0.43277192],\n",
       "        [-0.43277192, -0.43277192, -0.43277192, ..., -0.43277192,\n",
       "         -0.43277192, -0.43277192]]], dtype=float32)>"
      ]
     },
     "execution_count": 4,
     "metadata": {},
     "output_type": "execute_result"
    }
   ],
   "source": [
    "import librosa\n",
    "\n",
    "audio_path = 'record_out.wav'\n",
    "audio_array, sampling_rate = librosa.load(audio_path, sr=16000)\n",
    "\n",
    "inputs = feature_extractor(\n",
    "    audio_array, sampling_rate=16000, return_tensors=\"tf\"\n",
    ")\n",
    "input_features_wav = inputs.input_features\n",
    "\n",
    "input_features_wav"
   ]
  },
  {
   "cell_type": "code",
   "execution_count": 5,
   "metadata": {},
   "outputs": [],
   "source": [
    "tflite_model_path = './sane/whisper-jv-small.tflite'\n",
    "interpreter = tf.lite.Interpreter(tflite_model_path)\n",
    "tflite_generate = interpreter.get_signature_runner()"
   ]
  },
  {
   "cell_type": "code",
   "execution_count": 6,
   "metadata": {},
   "outputs": [
    {
     "data": {
      "text/plain": [
       "' Mr Quilter is the Apostle of the Middle Classes and we are glad to welcome his Gospel'"
      ]
     },
     "execution_count": 6,
     "metadata": {},
     "output_type": "execute_result"
    }
   ],
   "source": [
    "generated_ids = tflite_generate(input_features=input_features)[\"sequences\"]\n",
    "transcription = processor.batch_decode(generated_ids, skip_special_tokens=True)[0]\n",
    "transcription"
   ]
  },
  {
   "cell_type": "code",
   "execution_count": 7,
   "metadata": {},
   "outputs": [
    {
     "data": {
      "text/plain": [
       "' The stale smell of old beer lingers It takes heat to bring out the odor A cold dip restores health and zest A salt pickle tastes fine with ham Tacos al pastor are my favorite A zestful food is the hot cross bun'"
      ]
     },
     "execution_count": 7,
     "metadata": {},
     "output_type": "execute_result"
    }
   ],
   "source": [
    "generated_ids = tflite_generate(input_features=input_features_wav)[\"sequences\"]\n",
    "transcription = processor.batch_decode(generated_ids, skip_special_tokens=True)[0]\n",
    "transcription"
   ]
  }
 ],
 "metadata": {
  "kernelspec": {
   "display_name": "Python 3",
   "language": "python",
   "name": "python3"
  },
  "language_info": {
   "codemirror_mode": {
    "name": "ipython",
    "version": 3
   },
   "file_extension": ".py",
   "mimetype": "text/x-python",
   "name": "python",
   "nbconvert_exporter": "python",
   "pygments_lexer": "ipython3",
   "version": "3.11.6"
  }
 },
 "nbformat": 4,
 "nbformat_minor": 2
}
